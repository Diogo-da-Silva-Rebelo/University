{
 "cells": [
  {
   "cell_type": "markdown",
   "metadata": {},
   "source": [
    "# Ficha técnica\n",
    "\n",
    "__identificador__: workshop2021;\n",
    "\n",
    "__título__: Overview sob o tema da Análise de Dados;\n",
    "\n",
    "__data início__: 2021-12-15;\n",
    "\n",
    "__autor__: José Carlos Ramalho, D1513;\n",
    "\n",
    "__resumo__: Nesta workshop cobrem-se, sem aprofundar muito, os seguintes tópicos:\n",
    "\n",
    "* Tipos de dados primitivos;\n",
    "* Definição de funções;\n",
    "* Tipos de dados estruturados: listas, tuplos e dicionários;\n",
    "* Ficheiros: abertura, leitura, escrita e fecho;\n",
    "* Leitura e limpeza de datasets: formatos CSV, JSON e XML;\n",
    "* Cálculo de alguns indicadores e de algumas distribuições;\n",
    "* Visualização gráfica de distribuições.\n"
   ]
  },
  {
   "cell_type": "code",
   "execution_count": 1,
   "metadata": {},
   "outputs": [
    {
     "data": {
      "text/plain": [
       "11"
      ]
     },
     "execution_count": 1,
     "metadata": {},
     "output_type": "execute_result"
    }
   ],
   "source": [
    "5+6"
   ]
  },
  {
   "cell_type": "markdown",
   "metadata": {},
   "source": [
    "## Tipos de dados primitivos\n",
    "\n",
    "Inteiros, reais, complexos, booleanos e strings (???)"
   ]
  },
  {
   "cell_type": "code",
   "execution_count": 3,
   "metadata": {},
   "outputs": [
    {
     "name": "stdout",
     "output_type": "stream",
     "text": [
      "(10+2j)\n",
      "(29-2j)\n",
      "<class 'float'>\n"
     ]
    }
   ],
   "source": [
    "# Complexos\n",
    "a = 7+4j\n",
    "b = 3-2j\n",
    "print(a+b)\n",
    "print(a*b)\n",
    "\n",
    "r = 4.2*7\n",
    "s = r*2\n",
    "print(type(s))"
   ]
  },
  {
   "cell_type": "code",
   "execution_count": 4,
   "metadata": {},
   "outputs": [
    {
     "name": "stdout",
     "output_type": "stream",
     "text": [
      "True\n",
      "False\n"
     ]
    }
   ],
   "source": [
    "# Booleanos\n",
    "a = 2*3 > 4\n",
    "print(a)\n",
    "b = (2*3 > 4) and (not a)\n",
    "print(b)"
   ]
  },
  {
   "cell_type": "code",
   "execution_count": null,
   "metadata": {},
   "outputs": [],
   "source": [
    "# Reais\n",
    "media = (13+18+12)/3\n",
    "print(media)"
   ]
  },
  {
   "cell_type": "code",
   "execution_count": 5,
   "metadata": {},
   "outputs": [
    {
     "name": "stdout",
     "output_type": "stream",
     "text": [
      "h\n",
      "alma\n",
      "osa\n"
     ]
    }
   ],
   "source": [
    "# Strings\n",
    "frase = \"A alma humana é vítima tão inevitável da dor que sofre a dor da surpresa dolorosa\"\n",
    "# Acesso a um caráter\n",
    "print(frase[7])\n",
    "# Acesso a uma fatia\n",
    "print(frase[2:6])\n",
    "# A contar do fim: índices negativos\n",
    "print(frase[-3:])\n"
   ]
  },
  {
   "cell_type": "code",
   "execution_count": null,
   "metadata": {},
   "outputs": [],
   "source": [
    "frase = \"A alma humana é vítima tão inevitável da dor que sofre a dor da surpresa dolorosa\"\n",
    "# Comprimento\n",
    "#print(\"A frase tem \" + str(len(frase)) + \" carateres.\")\n",
    "print(\"Vamos iterar sobre a string:\")\n",
    "# E se quiser imprimir também a posição do caráter???\n",
    "#for c in frase:\n",
    "#    print(c)\n",
    "\n",
    "i = 0\n",
    "while i < len(frase):\n",
    "    print(str(i)+ \": \" + frase[i])\n",
    "    i = i+1"
   ]
  },
  {
   "cell_type": "code",
   "execution_count": null,
   "metadata": {},
   "outputs": [],
   "source": [
    "# Partir uma string em substrings usando um ou mais caráteres como separador\n",
    "frase = \"A alma humana é vítima tão inevitável da dor que sofre a dor da surpresa dolorosa\"\n",
    "palavras = frase.split(\"a\")\n",
    "print(palavras)\n",
    "# O resultado é uma lista, vamos ver à frente..."
   ]
  },
  {
   "cell_type": "markdown",
   "metadata": {},
   "source": [
    "## Definição de funções\n",
    "\n",
    "Sintaxe:\n",
    "\n",
    "```\n",
    "def nome(arg1, arg2, ...):\n",
    "    instruções \n",
    "    return resultado\n",
    "```"
   ]
  },
  {
   "cell_type": "code",
   "execution_count": 11,
   "metadata": {},
   "outputs": [
    {
     "name": "stdout",
     "output_type": "stream",
     "text": [
      "19\n",
      "9\n"
     ]
    }
   ],
   "source": [
    "def soma(a,b):\n",
    "    return a+b\n",
    "\n",
    "print(soma(7,12))\n",
    "print(soma(soma(2,3),4))"
   ]
  },
  {
   "cell_type": "markdown",
   "metadata": {},
   "source": [
    "### Pequeno exercício\n",
    "\n",
    "Vamos especificar uma função para calcular o resultado de elevar uma base a um determinado expoente."
   ]
  },
  {
   "cell_type": "code",
   "execution_count": 13,
   "metadata": {},
   "outputs": [
    {
     "name": "stdout",
     "output_type": "stream",
     "text": [
      "32\n",
      "1024\n"
     ]
    }
   ],
   "source": [
    "def pot(b, e):\n",
    "    res = 1\n",
    "    while e > 0:\n",
    "        res = res * b\n",
    "        e = e -1\n",
    "    return res\n",
    "\n",
    "def potr(b,e):\n",
    "    if e == 0:\n",
    "        return 1\n",
    "    else:\n",
    "        return b * potr(b, e-1)\n",
    "\n",
    "print(pot(2,5))\n",
    "print(pot(2,10))"
   ]
  },
  {
   "cell_type": "markdown",
   "metadata": {},
   "source": [
    "## Tipos de dados estruturados\n",
    "\n",
    "### Listas\n",
    "\n",
    "Uma lista é uma sequência finita e ordenada de elementos. Um elemento pode ser qualquer coisa."
   ]
  },
  {
   "cell_type": "markdown",
   "metadata": {},
   "source": [
    "#### Construtor:"
   ]
  },
  {
   "cell_type": "code",
   "execution_count": null,
   "metadata": {},
   "outputs": [],
   "source": [
    "# lista vazia\n",
    "l = []\n",
    "# lista homogénea\n",
    "l2 = [1,2,3,4,5]\n",
    "# lista heterogénea\n",
    "l3 = [11, \"onze\", 12, \"doze\"]\n",
    "# listas em compreensão\n",
    "l4 = [x for x in (l+l2+l3)]\n",
    "l5 = [x for x in range(1,101)]\n",
    "print(l5)\n"
   ]
  },
  {
   "cell_type": "markdown",
   "metadata": {},
   "source": [
    "#### Exercícios"
   ]
  },
  {
   "cell_type": "code",
   "execution_count": null,
   "metadata": {},
   "outputs": [],
   "source": [
    "# Lista com os inteiros no intervalo [1,100]\n",
    "\n",
    "# Lista com os inteiros divisíveis por 7 no intervalo [1,1000]\n",
    "l6 = [x for x in range(1,1001) if x%7 == 0]\n",
    "print(l6)"
   ]
  },
  {
   "cell_type": "code",
   "execution_count": null,
   "metadata": {},
   "outputs": [],
   "source": [
    "frase = \"A alma humana é vítima tão inevitável da dor que sofre a dor da surpresa dolorosa\"\n",
    "lista = [x for x in frase]\n",
    "lista.sort()\n",
    "print(lista)"
   ]
  },
  {
   "cell_type": "markdown",
   "metadata": {},
   "source": [
    "#### Comprimento"
   ]
  },
  {
   "cell_type": "code",
   "execution_count": 19,
   "metadata": {},
   "outputs": [
    {
     "name": "stdout",
     "output_type": "stream",
     "text": [
      "5\n"
     ]
    }
   ],
   "source": [
    "vogais = ['a', 'e', 'i', 'o', 'u']\n",
    "print(len(vogais))"
   ]
  },
  {
   "cell_type": "markdown",
   "metadata": {},
   "source": [
    "#### _in_ e _not in_"
   ]
  },
  {
   "cell_type": "code",
   "execution_count": 21,
   "metadata": {},
   "outputs": [
    {
     "name": "stdout",
     "output_type": "stream",
     "text": [
      "[True, True, True, True, False]\n"
     ]
    }
   ],
   "source": [
    "texto = \"Hoje está m dia bonito!\"\n",
    "vogaisPresentes = []\n",
    "for v in vogais:\n",
    "    if v in texto:\n",
    "        vogaisPresentes.append(True)\n",
    "    else:\n",
    "        vogaisPresentes.append(False)\n",
    "print(vogaisPresentes)"
   ]
  },
  {
   "cell_type": "markdown",
   "metadata": {},
   "source": [
    "#### Acrescentar elementos numa lista"
   ]
  },
  {
   "cell_type": "code",
   "execution_count": null,
   "metadata": {},
   "outputs": [],
   "source": [
    "pares100 = []\n",
    "i = 0\n",
    "while i <= 100:\n",
    "    pares100.append(i)\n",
    "    i = i+2\n",
    "print(pares100)\n",
    "\n",
    "# Fazer o mesmo em compreensão\n",
    "pares = [x for x in range(0,101) if x%2 == 0]\n",
    "print(pares)"
   ]
  },
  {
   "cell_type": "markdown",
   "metadata": {},
   "source": [
    "#### Apagar o conteúdo duma lista"
   ]
  },
  {
   "cell_type": "code",
   "execution_count": 24,
   "metadata": {},
   "outputs": [
    {
     "name": "stdout",
     "output_type": "stream",
     "text": [
      "[]\n"
     ]
    }
   ],
   "source": [
    "pares100.clear()\n",
    "print(pares100)"
   ]
  },
  {
   "cell_type": "markdown",
   "metadata": {},
   "source": [
    "#### Copiar uma lista"
   ]
  },
  {
   "cell_type": "code",
   "execution_count": 25,
   "metadata": {},
   "outputs": [
    {
     "name": "stdout",
     "output_type": "stream",
     "text": [
      "['vermelho', 'verde', 'azul', 'amarelo']\n",
      "1\n"
     ]
    }
   ],
   "source": [
    "cores = [\"vermelho\", \"verde\", \"azul\"]\n",
    "cores2 = cores.copy() + [\"amarelo\"]\n",
    "print(cores2)\n",
    "print(cores2.index(\"verde\"))"
   ]
  },
  {
   "cell_type": "code",
   "execution_count": 26,
   "metadata": {},
   "outputs": [
    {
     "name": "stdout",
     "output_type": "stream",
     "text": [
      "[(0, 'vermelho'), (1, 'verde'), (2, 'azul'), (3, 'amarelo')]\n"
     ]
    }
   ],
   "source": [
    "coresIndex = []\n",
    "for i in range(len(cores2)):\n",
    "    coresIndex.append((i, cores2[i]))\n",
    "print(coresIndex)"
   ]
  },
  {
   "cell_type": "markdown",
   "metadata": {},
   "source": [
    "#### Inserir um elemento numa determinada posição"
   ]
  },
  {
   "cell_type": "code",
   "execution_count": 27,
   "metadata": {},
   "outputs": [
    {
     "name": "stdout",
     "output_type": "stream",
     "text": [
      "['vermelho', 'roxo', 'verde', 'azul', 'amarelo']\n"
     ]
    }
   ],
   "source": [
    "cores2.insert(1, \"roxo\")\n",
    "print(cores2)"
   ]
  },
  {
   "cell_type": "markdown",
   "metadata": {},
   "source": [
    "#### Remover a primeira ocorrência de um elemento"
   ]
  },
  {
   "cell_type": "code",
   "execution_count": 29,
   "metadata": {},
   "outputs": [
    {
     "name": "stdout",
     "output_type": "stream",
     "text": [
      "['vermelho', 'roxo', 'azul', 'amarelo', 'verde', 'verde', 'verde', 'verde']\n",
      "['vermelho', 'roxo', 'azul', 'amarelo']\n"
     ]
    }
   ],
   "source": [
    "cores2 = cores2 + [\"verde\", \"verde\"]\n",
    "print(cores2)\n",
    "while \"verde\" in cores2:\n",
    "    cores2.remove(\"verde\")\n",
    "print(cores2)"
   ]
  },
  {
   "cell_type": "markdown",
   "metadata": {},
   "source": [
    "#### Ordem e ordenação"
   ]
  },
  {
   "cell_type": "code",
   "execution_count": 30,
   "metadata": {},
   "outputs": [
    {
     "name": "stdout",
     "output_type": "stream",
     "text": [
      "[1, 2, 3, 4, 5, 6, 7, 8, 9, 10, 11, 12, 13, 14, 15, 16, 17, 18, 19, 20]\n",
      "[20, 19, 18, 17, 16, 15, 14, 13, 12, 11, 10, 9, 8, 7, 6, 5, 4, 3, 2, 1]\n",
      "[1, 2, 3, 4, 5, 6, 7, 8, 9, 10, 11, 12, 13, 14, 15, 16, 17, 18, 19, 20]\n"
     ]
    }
   ],
   "source": [
    "lista = [x for x in range(1,21)]\n",
    "print(lista)\n",
    "lista.reverse()\n",
    "print(lista)\n",
    "lista.sort()\n",
    "print(lista)"
   ]
  },
  {
   "cell_type": "markdown",
   "metadata": {},
   "source": [
    "### Exercício: vamos criar uma lista..."
   ]
  },
  {
   "cell_type": "code",
   "execution_count": 31,
   "metadata": {},
   "outputs": [],
   "source": [
    "def criarListaInt():\n",
    "    lista = []\n",
    "    n = int(input(\"Introduza o número de elementos da lista: \"))\n",
    "    i = 1\n",
    "    while len(lista) < n:\n",
    "        elem = int(input(\"Introduza o elemento \" + str(i) + \": \"))\n",
    "        lista.append(elem)\n",
    "        i = i+1\n",
    "    return lista"
   ]
  },
  {
   "cell_type": "code",
   "execution_count": 32,
   "metadata": {},
   "outputs": [
    {
     "name": "stdout",
     "output_type": "stream",
     "text": [
      "[45, 13, 27, 34, 88]\n"
     ]
    }
   ],
   "source": [
    "l = criarListaInt()\n",
    "print(l)"
   ]
  },
  {
   "cell_type": "markdown",
   "metadata": {},
   "source": [
    "#### Vamos automatizar a criação da lista"
   ]
  },
  {
   "cell_type": "code",
   "execution_count": 35,
   "metadata": {},
   "outputs": [],
   "source": [
    "from random import randrange\n",
    "def criarListaInt2(nelems):\n",
    "    lista = []\n",
    "    i = 1\n",
    "    while len(lista) < nelems:\n",
    "        elem = randrange(0, 101)\n",
    "        if elem not in lista:\n",
    "            lista.append(elem)\n",
    "        i = i+1\n",
    "    return lista"
   ]
  },
  {
   "cell_type": "code",
   "execution_count": 36,
   "metadata": {},
   "outputs": [
    {
     "name": "stdout",
     "output_type": "stream",
     "text": [
      "[23, 63, 4, 57, 14, 17, 11, 36, 67, 95, 33, 89, 47, 84, 82, 100, 64, 43, 50, 24, 85, 70, 55, 88, 20, 72, 53, 41, 13, 97, 34, 30, 81, 16, 22, 56, 25, 86, 1, 93]\n",
      "[1, 4, 11, 13, 14, 16, 17, 20, 22, 23, 24, 25, 30, 33, 34, 36, 41, 43, 47, 50, 53, 55, 56, 57, 63, 64, 67, 70, 72, 81, 82, 84, 85, 86, 88, 89, 93, 95, 97, 100]\n"
     ]
    }
   ],
   "source": [
    "l2 = criarListaInt2(40)\n",
    "print(l2)\n",
    "l2.sort()\n",
    "print(l2)"
   ]
  },
  {
   "cell_type": "markdown",
   "metadata": {},
   "source": [
    "#### Há duplicados, como podemos evitar que sejam gerados?"
   ]
  },
  {
   "cell_type": "code",
   "execution_count": null,
   "metadata": {},
   "outputs": [],
   "source": [
    "# Resolver na sessão"
   ]
  },
  {
   "cell_type": "markdown",
   "metadata": {},
   "source": [
    "#### Exercício: Vamos definir uma função para calcular o maior da lista                                                                                                                                                                                                                                                                                                                                             "
   ]
  },
  {
   "cell_type": "markdown",
   "metadata": {},
   "source": [
    "## Tuplos e companhia"
   ]
  },
  {
   "cell_type": "markdown",
   "metadata": {},
   "source": [
    "#### Construtores: (), tuple()"
   ]
  },
  {
   "cell_type": "code",
   "execution_count": 37,
   "metadata": {},
   "outputs": [],
   "source": [
    "aluno1 = (\"Ana Maria\", \"A87564\", \"ENGMAT\", 1,1,0,0,1,1,0,0)\n",
    "coordenadas = tuple([39, 9])"
   ]
  },
  {
   "cell_type": "markdown",
   "metadata": {},
   "source": [
    "#### Acesso"
   ]
  },
  {
   "cell_type": "code",
   "execution_count": 38,
   "metadata": {},
   "outputs": [
    {
     "name": "stdout",
     "output_type": "stream",
     "text": [
      "ENGMAT\n",
      "9\n"
     ]
    }
   ],
   "source": [
    "curso1 = aluno1[2]\n",
    "print(curso1)\n",
    "print(coordenadas[1])"
   ]
  },
  {
   "cell_type": "markdown",
   "metadata": {},
   "source": [
    "#### Acesso com desmembramento (unfold/unpack)"
   ]
  },
  {
   "cell_type": "code",
   "execution_count": 39,
   "metadata": {},
   "outputs": [
    {
     "name": "stdout",
     "output_type": "stream",
     "text": [
      "A87564: Ana Maria\n",
      "[1, 1, 0, 0, 1, 1, 0, 0]\n"
     ]
    }
   ],
   "source": [
    "nome, id, curso, *tpc = aluno1\n",
    "print(id + \": \" + nome)\n",
    "print(tpc)"
   ]
  },
  {
   "cell_type": "markdown",
   "metadata": {},
   "source": [
    "#### Testar se um valor está no tuplo"
   ]
  },
  {
   "cell_type": "code",
   "execution_count": null,
   "metadata": {},
   "outputs": [],
   "source": [
    "if \"ENGMAT\" in aluno1:\n",
    "    print(\"Temos mais um aluno!\")"
   ]
  },
  {
   "cell_type": "markdown",
   "metadata": {},
   "source": [
    "#### Remover um campo"
   ]
  },
  {
   "cell_type": "code",
   "execution_count": 40,
   "metadata": {},
   "outputs": [
    {
     "name": "stdout",
     "output_type": "stream",
     "text": [
      "('Ana Maria', 'A87564', 1, 1, 0, 0, 1, 1, 0, 0)\n"
     ]
    }
   ],
   "source": [
    "a1Lista = list(aluno1)\n",
    "a1Lista.pop(2)\n",
    "aluno1 = tuple(a1Lista)\n",
    "print(aluno1)"
   ]
  },
  {
   "cell_type": "markdown",
   "metadata": {},
   "source": [
    "## Listas em compreensão"
   ]
  },
  {
   "cell_type": "code",
   "execution_count": 41,
   "metadata": {},
   "outputs": [
    {
     "name": "stdout",
     "output_type": "stream",
     "text": [
      "['A', ' ', 'M', 'a', 'r', 'i', 'a', ' ', 't', 'e', 'm', ' ', 'u', 'm', ' ', 'n', 'a', 'm', 'o', 'r', 'a', 'd', 'o']\n"
     ]
    }
   ],
   "source": [
    "letras = [l for l in \"A Maria tem um namorado\"]\n",
    "print(letras)"
   ]
  },
  {
   "cell_type": "markdown",
   "metadata": {},
   "source": [
    "#### Sintaxe: `[expressão for elem in lista]`"
   ]
  },
  {
   "cell_type": "code",
   "execution_count": 42,
   "metadata": {},
   "outputs": [
    {
     "name": "stdout",
     "output_type": "stream",
     "text": [
      "[0, 1, 4, 9, 16, 25, 36, 49, 64, 81, 100, 121, 144, 169, 196, 225, 256, 289, 324, 361]\n"
     ]
    }
   ],
   "source": [
    "quadrados = [n*n for n in range(20)]\n",
    "print(quadrados)"
   ]
  },
  {
   "cell_type": "code",
   "execution_count": null,
   "metadata": {},
   "outputs": [],
   "source": [
    "parImpar = [(\"Par\", y) if y%2 == 0 else (\"Ímpar\", y) for y in range(1,101)]\n",
    "print(parImpar)"
   ]
  },
  {
   "cell_type": "markdown",
   "metadata": {},
   "source": [
    "#### Exercício: Especifica uma lista em compreensão com os inteiros entre 0 e 1000 divisíveis por 2 e por 7"
   ]
  },
  {
   "cell_type": "markdown",
   "metadata": {},
   "source": [
    "#### Exercício: Resultado após uma jornada de futebol"
   ]
  },
  {
   "cell_type": "code",
   "execution_count": 44,
   "metadata": {},
   "outputs": [
    {
     "name": "stdout",
     "output_type": "stream",
     "text": [
      "('Jornada XXI', [(('Benfica', 1), ('Moreirense', 3)), (('Sporting', 2), ('Braga', 3)), (('Porto', 3), ('Rio Ave', 3))])\n"
     ]
    }
   ],
   "source": [
    "jornada21 = ('Jornada XXI', [(('Benfica',1),('Moreirense',3)), \n",
    "                             (('Sporting',2),('Braga',3)), \n",
    "                             (('Porto',3),('Rio Ave', 3))])\n",
    "print(jornada21)"
   ]
  },
  {
   "cell_type": "code",
   "execution_count": 45,
   "metadata": {},
   "outputs": [],
   "source": [
    "# Devolve uma lista de pares: [(Equipe, Pontos)]\n",
    "def resultado(jornada):\n",
    "    resultado = []\n",
    "    for jogo in jornada21[1]:\n",
    "        visitado, visitante = jogo\n",
    "        if visitado[1] > visitante[1]:\n",
    "            resultado.append((visitado[0],3))\n",
    "            resultado.append((visitante[0],0))\n",
    "        elif visitado[1] < visitante[1]:\n",
    "            resultado.append((visitado[0],0))\n",
    "            resultado.append((visitante[0],3))\n",
    "        else:\n",
    "            resultado.append((visitado[0],1))\n",
    "            resultado.append((visitante[0],1))\n",
    "    return resultado\n",
    "\n",
    "def verResultado(rlista):\n",
    "    for tuplo in rlista:\n",
    "        equipe, pontos = tuplo\n",
    "        print(equipe, \" - \", pontos)"
   ]
  },
  {
   "cell_type": "code",
   "execution_count": 47,
   "metadata": {},
   "outputs": [
    {
     "name": "stdout",
     "output_type": "stream",
     "text": [
      "Benfica  -  0\n",
      "Moreirense  -  3\n",
      "Sporting  -  0\n",
      "Braga  -  3\n",
      "Porto  -  1\n",
      "Rio Ave  -  1\n"
     ]
    }
   ],
   "source": [
    "verResultado(resultado(jornada21))"
   ]
  },
  {
   "cell_type": "markdown",
   "metadata": {},
   "source": [
    "## Dicionários\n",
    "\n",
    "#### Construtores: {}, dict()"
   ]
  },
  {
   "cell_type": "code",
   "execution_count": 48,
   "metadata": {},
   "outputs": [
    {
     "name": "stdout",
     "output_type": "stream",
     "text": [
      "{'visitado': {'equipe': 'Benfica', 'golos': 1}, 'visitante': {'equipe': 'Moreirense', 'golos': 3}}\n",
      "1\n",
      "Benfica\n"
     ]
    }
   ],
   "source": [
    "jogo1 = {'visitado': {'equipe': 'Benfica', 'golos': 1},\n",
    "        'visitante': {'equipe': 'Moreirense', 'golos': 3}}\n",
    "print(jogo1)\n",
    "print(jogo1['visitado']['golos'])\n",
    "print(jogo1.get('visitado').get('equipe'))"
   ]
  },
  {
   "cell_type": "markdown",
   "metadata": {},
   "source": [
    "#### Acesso"
   ]
  },
  {
   "cell_type": "code",
   "execution_count": 49,
   "metadata": {},
   "outputs": [
    {
     "name": "stdout",
     "output_type": "stream",
     "text": [
      "6\n",
      "7\n"
     ]
    }
   ],
   "source": [
    "compras = {'maçã': 5, 'laranja':6, 'banana': 7}\n",
    "print(compras['laranja'])\n",
    "print(compras.get('banana'))"
   ]
  },
  {
   "cell_type": "markdown",
   "metadata": {},
   "source": [
    "#### Extrair chaves"
   ]
  },
  {
   "cell_type": "code",
   "execution_count": 50,
   "metadata": {},
   "outputs": [
    {
     "name": "stdout",
     "output_type": "stream",
     "text": [
      "<class 'dict_keys'>\n",
      "dict_keys(['LCC', 'ENGBIOM', 'LEI', 'ENGFIS'])\n"
     ]
    }
   ],
   "source": [
    "distrib = {\"LCC\": 23, \"ENGBIOM\": 35, \"LEI\": 32, \"ENGFIS\": 17}\n",
    "chaves = distrib.keys()\n",
    "print(type(chaves))\n",
    "print(chaves)"
   ]
  },
  {
   "cell_type": "markdown",
   "metadata": {},
   "source": [
    "#### Extrair valores"
   ]
  },
  {
   "cell_type": "code",
   "execution_count": 51,
   "metadata": {},
   "outputs": [
    {
     "name": "stdout",
     "output_type": "stream",
     "text": [
      "<class 'dict_values'>\n",
      "dict_values([23, 35, 32, 17])\n"
     ]
    }
   ],
   "source": [
    "distrib = {\"LCC\": 23, \"ENGBIOM\": 35, \"LEI\": 32, \"ENGFIS\": 17}\n",
    "valores = distrib.values()\n",
    "print(type(valores))\n",
    "print(valores)"
   ]
  },
  {
   "cell_type": "markdown",
   "metadata": {},
   "source": [
    "#### Concatenar dicionários"
   ]
  },
  {
   "cell_type": "code",
   "execution_count": 52,
   "metadata": {},
   "outputs": [
    {
     "name": "stdout",
     "output_type": "stream",
     "text": [
      "{'cenouras': 6, 'batatas': 20, 'cebolas': 12, 'tangerina': 30, 'pêras': 8, 'bananas': 6, 'romãs': 2, 'fiambre': 10, 'queijo': 16, 'chouriço': 1}\n"
     ]
    }
   ],
   "source": [
    "legumes = {\"cenouras\": 6, \"batatas\":20, \"cebolas\": 12}\n",
    "frutas = {\"tangerina\": 30, \"pêras\":8, \"bananas\": 6, \"romãs\": 2}\n",
    "charcutaria = {\"fiambre\": 10, \"queijo\": 16, \"chouriço\": 1}\n",
    "listaCompras = {}\n",
    "for par in (legumes, frutas, charcutaria): listaCompras.update(par)\n",
    "print(listaCompras)"
   ]
  },
  {
   "cell_type": "code",
   "execution_count": 53,
   "metadata": {},
   "outputs": [
    {
     "name": "stdout",
     "output_type": "stream",
     "text": [
      "{'cenouras': 6, 'batatas': 20, 'cebolas': 12, 'tangerina': 30, 'pêras': 8, 'bananas': 6, 'romãs': 2, 'fiambre': 10, 'queijo': 16, 'chouriço': 1}\n"
     ]
    }
   ],
   "source": [
    "legumes = {\"cenouras\": 6, \"batatas\":20, \"cebolas\": 12}\n",
    "frutas = {\"tangerina\": 30, \"pêras\":8, \"bananas\": 6, \"romãs\": 2}\n",
    "charcutaria = {\"fiambre\": 10, \"queijo\": 16, \"chouriço\": 1}\n",
    "listaCompras = legumes.copy()\n",
    "listaCompras.update(frutas)\n",
    "listaCompras.update(charcutaria)\n",
    "print(listaCompras)"
   ]
  },
  {
   "cell_type": "code",
   "execution_count": null,
   "metadata": {},
   "outputs": [],
   "source": [
    "legumes = {\"cenouras\": 6, \"batatas\":20, \"cebolas\": 12}\n",
    "frutas = {\"tangerina\": 30, \"pêras\":8, \"bananas\": 6, \"romãs\": 2}\n",
    "charcutaria = {\"fiambre\": 10, \"queijo\": 16, \"chouriço\": 1}\n",
    "listaCompras = {}\n",
    "for chave in legumes.keys():\n",
    "    listaCompras[chave] = legumes[chave]\n",
    "for chave in frutas.keys():\n",
    "    listaCompras[chave] = frutas[chave]\n",
    "for chave in charcutaria.keys():\n",
    "    listaCompras[chave] = charcutaria[chave]\n",
    "print(listaCompras)"
   ]
  },
  {
   "cell_type": "markdown",
   "metadata": {},
   "source": [
    "#### Ordenar dicionários: por valor"
   ]
  },
  {
   "cell_type": "code",
   "execution_count": 54,
   "metadata": {},
   "outputs": [
    {
     "name": "stdout",
     "output_type": "stream",
     "text": [
      "{'chouriço': 1, 'romãs': 2, 'cenouras': 6, 'bananas': 6, 'pêras': 8, 'fiambre': 10, 'cebolas': 12, 'queijo': 16, 'batatas': 20, 'tangerina': 30}\n"
     ]
    }
   ],
   "source": [
    "def ordenaValores(v):\n",
    "    return v[1]\n",
    "\n",
    "# print(listaCompras.items())\n",
    "# valores = sorted(listaCompras.items(), key = lambda x: x[1])\n",
    "valores = list(listaCompras.items())\n",
    "valores.sort(key = ordenaValores)\n",
    "novoDict = dict(valores)\n",
    "print(novoDict)"
   ]
  },
  {
   "cell_type": "markdown",
   "metadata": {},
   "source": [
    "#### Ordenar dicionários: por chave"
   ]
  },
  {
   "cell_type": "code",
   "execution_count": 55,
   "metadata": {},
   "outputs": [
    {
     "name": "stdout",
     "output_type": "stream",
     "text": [
      "[('bananas', 6), ('batatas', 20), ('cebolas', 12), ('cenouras', 6), ('chouriço', 1), ('fiambre', 10), ('pêras', 8), ('queijo', 16), ('romãs', 2), ('tangerina', 30)]\n"
     ]
    }
   ],
   "source": [
    "def ordenaChaves(par):\n",
    "    return par[0]\n",
    "\n",
    "chaves = sorted(listaCompras.items(), key = ordenaChaves)\n",
    "# Fazer com o sort\n",
    "print(chaves)"
   ]
  },
  {
   "cell_type": "markdown",
   "metadata": {},
   "source": [
    "#### Verificar se uma chave está no dicionário"
   ]
  },
  {
   "cell_type": "code",
   "execution_count": 56,
   "metadata": {},
   "outputs": [],
   "source": [
    "def pertenceChave(c, d):\n",
    "    return True if c in d else False "
   ]
  },
  {
   "cell_type": "code",
   "execution_count": 57,
   "metadata": {},
   "outputs": [
    {
     "name": "stdout",
     "output_type": "stream",
     "text": [
      "True\n",
      "False\n"
     ]
    }
   ],
   "source": [
    "print(pertenceChave(\"bananas\", listaCompras))\n",
    "print(pertenceChave(\"beterrabas\", listaCompras))"
   ]
  },
  {
   "cell_type": "markdown",
   "metadata": {},
   "source": [
    "#### Exercício:\n",
    "\n",
    "Escreve um programa em Python que leia um número inteiro positivo e crie um dicionário com chaves de 1 até esse número, em que o valor associado a cada chave é o quadrado dessa chave."
   ]
  },
  {
   "cell_type": "code",
   "execution_count": 58,
   "metadata": {},
   "outputs": [
    {
     "name": "stdout",
     "output_type": "stream",
     "text": [
      "{1: 1, 2: 4, 3: 9, 4: 16, 5: 25, 6: 36, 7: 49, 8: 64, 9: 81, 10: 100, 11: 121, 12: 144, 13: 169, 14: 196, 15: 225, 16: 256, 17: 289, 18: 324, 19: 361, 20: 400}\n"
     ]
    }
   ],
   "source": [
    "# Desenvolver na workshop\n",
    "n = int(input(\"Introduza um número: \"))\n",
    "nums = {}\n",
    "for i in range(1,n+1):\n",
    "    nums[i] = i*i\n",
    "print(nums)"
   ]
  },
  {
   "cell_type": "markdown",
   "metadata": {},
   "source": [
    "#### O problema da inversão estrutural"
   ]
  },
  {
   "cell_type": "code",
   "execution_count": 59,
   "metadata": {},
   "outputs": [],
   "source": [
    "escola = [\n",
    "    {\n",
    "        'nome': \"Ana\",\n",
    "        'instrumentos': ['trompete','clarinete', 'flauta']\n",
    "    },\n",
    "    {\n",
    "        'nome': \"Carlos\",\n",
    "        'instrumentos': ['saxofone', 'flauta', 'piano']\n",
    "    },\n",
    "    {\n",
    "        'nome': \"Paulina\",\n",
    "        'instrumentos': ['saxofone', 'violino', 'piano']\n",
    "    }\n",
    "]\n",
    "\n",
    "def calcListaInst(esc):\n",
    "    instrumentos = []\n",
    "    for a in esc:\n",
    "        for i in a['instrumentos']:\n",
    "            if i not in instrumentos:\n",
    "                instrumentos.append(i)\n",
    "    instrumentos.sort()\n",
    "    return instrumentos\n",
    "\n",
    "def calcListaMusicos(esc, i):\n",
    "    musicos = []\n",
    "    for a in esc:\n",
    "        if i in a['instrumentos']:\n",
    "            musicos.append(a['nome'])\n",
    "    return musicos\n",
    "\n",
    "def indInstrumentos(esc):\n",
    "    indiceInstrumentos = []\n",
    "    listaInst = calcListaInst(esc)\n",
    "    for i in listaInst:\n",
    "        indiceInstrumentos.append({\n",
    "            'instrumento': i, \n",
    "            'musicos': calcListaMusicos(esc, i)\n",
    "        })\n",
    "    return indiceInstrumentos"
   ]
  },
  {
   "cell_type": "code",
   "execution_count": 60,
   "metadata": {},
   "outputs": [
    {
     "name": "stdout",
     "output_type": "stream",
     "text": [
      "[{'instrumento': 'clarinete', 'musicos': ['Ana']}, {'instrumento': 'flauta', 'musicos': ['Ana', 'Carlos']}, {'instrumento': 'piano', 'musicos': ['Carlos', 'Paulina']}, {'instrumento': 'saxofone', 'musicos': ['Carlos', 'Paulina']}, {'instrumento': 'trompete', 'musicos': ['Ana']}, {'instrumento': 'violino', 'musicos': ['Paulina']}]\n"
     ]
    }
   ],
   "source": [
    "print(indInstrumentos(escola))"
   ]
  },
  {
   "cell_type": "markdown",
   "metadata": {},
   "source": [
    "## Persistência da informação / Armazenamento em memória secundária: ficheiros"
   ]
  },
  {
   "cell_type": "markdown",
   "metadata": {},
   "source": [
    "### Abertura: open(nome, modo)"
   ]
  },
  {
   "cell_type": "markdown",
   "metadata": {},
   "source": [
    "Modos de abertura de um ficheiro:\n",
    "* \"r\" - Read - Valor por omissão. Abre o ficheiro para leitura, devolve error se o ficheiro não existir;\n",
    "* \"a\" - Append - Abre o ficheiro para acrescentar, cria o ficheiro se este não existir;\n",
    "* \"w\" - Write - Abre o ficheiro para escrever, cria o ficheiro se este não existir, apaga o conteúdo se este existir;\n",
    "* \"x\" - Create - Cria o ficheiro, devolve error se o ficheiro já existir.\n",
    "\n",
    "Parâmetro adicional ao modo:\n",
    "* \"t\" - Text - Valor por omissão. Ficheiro textual;\n",
    "* \"b\" - Binary - Ficheiro binário, por exemplo, imagens."
   ]
  },
  {
   "cell_type": "code",
   "execution_count": null,
   "metadata": {},
   "outputs": [],
   "source": [
    "f = open(\"bdArtigos.json\", \"rt\")\n",
    "f2 = open(\"bdArtigos.json\", \"r\")\n",
    "f3 = open(\"bdArtigos.json\")"
   ]
  },
  {
   "cell_type": "markdown",
   "metadata": {},
   "source": [
    "### Leitura do conteúdo"
   ]
  },
  {
   "cell_type": "code",
   "execution_count": 61,
   "metadata": {},
   "outputs": [
    {
     "name": "stdout",
     "output_type": "stream",
     "text": [
      "Boa tarde a todos!\n",
      "Esta é a quinta aula teórica.\n",
      "Espero que estejam a conseguir acompanhar...\n",
      "Agora o ficheiro tem mais conteúdo!Agora o ficheiro tem mais conteúdo!\n"
     ]
    }
   ],
   "source": [
    "f4 = open(\"demo.txt\")\n",
    "print(f4.read())"
   ]
  },
  {
   "cell_type": "markdown",
   "metadata": {},
   "source": [
    "#### Uma linha de cada vez, iterando pelas linhas..."
   ]
  },
  {
   "cell_type": "code",
   "execution_count": null,
   "metadata": {},
   "outputs": [
    {
     "ename": "",
     "evalue": "",
     "output_type": "error",
     "traceback": [
      "\u001b[1;31mJupyter cannot be started. Error attempting to locate jupyter: Running cells with 'Python 3.8.10 64-bit' requires notebook and jupyter package.\n",
      "Run the following command to install 'jupyter and notebook' into the Python environment. \n",
      "Command: '/bin/python -m pip install jupyter notebook -U'"
     ]
    }
   ],
   "source": [
    "f4 = open(\"demo.txt\")\n",
    "print(f4.readline())\n",
    "print(f4.readline())"
   ]
  },
  {
   "cell_type": "code",
   "execution_count": null,
   "metadata": {},
   "outputs": [],
   "source": [
    "f4 = open(\"demo.txt\")\n",
    "i=1\n",
    "for linha in f4:\n",
    "    print(str(i) + \" :: \" + linha)\n",
    "    i = i+1"
   ]
  },
  {
   "cell_type": "markdown",
   "metadata": {},
   "source": [
    "### Fechar um ficheiro: devemos fazê-lo no fim..."
   ]
  },
  {
   "cell_type": "code",
   "execution_count": 63,
   "metadata": {},
   "outputs": [
    {
     "name": "stdout",
     "output_type": "stream",
     "text": [
      "1 :: Boa tarde a todos!\n",
      "\n",
      "2 :: Esta é a quinta aula teórica.\n",
      "\n",
      "3 :: Espero que estejam a conseguir acompanhar...\n",
      "\n",
      "4 :: Agora o ficheiro tem mais conteúdo!Agora o ficheiro tem mais conteúdo!\n"
     ]
    }
   ],
   "source": [
    "f4 = open(\"demo.txt\")\n",
    "i=1\n",
    "for linha in f4:\n",
    "    print(str(i) + \" :: \" + linha)\n",
    "    i = i+1\n",
    "f4.close()"
   ]
  },
  {
   "cell_type": "markdown",
   "metadata": {},
   "source": [
    "### Escrever num ficheiro"
   ]
  },
  {
   "cell_type": "code",
   "execution_count": 66,
   "metadata": {},
   "outputs": [
    {
     "name": "stdout",
     "output_type": "stream",
     "text": [
      "Boa tarde a todos!\n",
      "Esta é a quinta aula teórica.\n",
      "Espero que estejam a conseguir acompanhar...\n",
      "Agora o ficheiro tem mais conteúdo!Agora o ficheiro tem mais conteúdo!Agora o ficheiro tem mais conteúdo!Agora o ficheiro tem mais conteúdo!Agora o ficheiro tem mais conteúdo!\n"
     ]
    }
   ],
   "source": [
    "f5 = open(\"demo.txt\", \"a\")\n",
    "f5.write(\"Agora o ficheiro tem mais conteúdo!\")\n",
    "f5.close()\n",
    "\n",
    "f5 = open(\"demo.txt\", \"r\")\n",
    "print(f5.read())"
   ]
  },
  {
   "cell_type": "markdown",
   "metadata": {},
   "source": [
    "### Exercício: uma BD bibliográfica - Como guardar em ficheiro?"
   ]
  },
  {
   "cell_type": "code",
   "execution_count": 67,
   "metadata": {},
   "outputs": [],
   "source": [
    "arts = [{'chaveCit': 'RHA2008', 'titulo': 'Álgebra Documental', \n",
    "        'autores': [('jcr', 'José Carlos Ramalho'), ('prh', 'Pedro Rangel Henriques'), ('jj', 'José João Almeida')], \n",
    "        'ano': 2008, 'local': 'Twente - Holanda'}, \n",
    "    {'chaveCit': 'RHA1998', 'titulo': 'Utilização do email pedagogicamente', \n",
    "        'autores': [('jcr', 'José Carlos Ramalho'), ('prh', 'Pedro Rangel Henriques'), ('jj', \n",
    "        'José João Almeida')], 'ano': 1999, 'local': 'Universidade do Minho'}]"
   ]
  },
  {
   "cell_type": "markdown",
   "metadata": {},
   "source": [
    "### Hipótese 1: no \"meu\" ficheiro de texto\n",
    "__Que forma irão ter os registos?__"
   ]
  },
  {
   "cell_type": "markdown",
   "metadata": {},
   "source": [
    "`chaveCit::titulo::autor1#autor2#...#autorn::ano::local`\n",
    "\n",
    "Aplicado ao nosso exemplo:\n",
    "\n",
    "`RHA2008::Álgebra Documental::jcr,José Carlos Ramalho#prh,Pedro Rangel Henriques#jj,José João Almeida::2008::Twente - Holanda\n",
    "\n",
    "RHA1998::Utilização do email pedagogicamente::jcr,José Carlos Ramalho#prh,Pedro Rangel Henriques#jj,José João Almeida::1999::Universidade do Minho`"
   ]
  },
  {
   "cell_type": "code",
   "execution_count": 68,
   "metadata": {},
   "outputs": [
    {
     "name": "stdout",
     "output_type": "stream",
     "text": [
      "Foram guardados 2 registos.\n"
     ]
    }
   ],
   "source": [
    "# Guardar a BD no ficheiro\n",
    "def guardarBD(bd, fnome):\n",
    "    f = open(fnome, 'w', encoding='utf-8')\n",
    "    sep = \"::\"\n",
    "    myReg = \"\"\n",
    "    for art in bd:\n",
    "        myReg = art['chaveCit'] + sep + art['titulo'] + sep\n",
    "        i = 1\n",
    "        for (id, nome) in art['autores']:\n",
    "            myReg = myReg + id + \",\" + nome\n",
    "            if i < len(art['autores']):\n",
    "                myReg = myReg + \"#\"\n",
    "            else:\n",
    "                myReg = myReg + \"::\"\n",
    "            i = i+1\n",
    "        myReg = myReg + str(art['ano']) + sep + art['local']\n",
    "        myReg = myReg + \"\\n\"\n",
    "        f.write(myReg)\n",
    "\n",
    "guardarBD(arts, \"bdArtigos.txt\")\n",
    "print(\"Foram guardados \" + str(len(arts)) + \" registos.\")"
   ]
  },
  {
   "cell_type": "code",
   "execution_count": 70,
   "metadata": {},
   "outputs": [
    {
     "name": "stdout",
     "output_type": "stream",
     "text": [
      "[{'chaveCit': 'RHA2008', 'titulo': 'Álgebra Documental', 'autores': [('jcr', 'José Carlos Ramalho'), ('prh', 'Pedro Rangel Henriques'), ('jj', 'José João Almeida')], 'ano': '2008', 'local': 'Twente - Holanda'}, {'chaveCit': 'RHA1998', 'titulo': 'Utilização do email pedagogicamente', 'autores': [('jcr', 'José Carlos Ramalho'), ('prh', 'Pedro Rangel Henriques'), ('jj', 'José João Almeida')], 'ano': '1999', 'local': 'Universidade do Minho'}]\n"
     ]
    }
   ],
   "source": [
    "# Carregar a BD dum ficheiro\n",
    "def extraiAutores(linha):\n",
    "    res = []\n",
    "    autores = linha.split(\"#\")\n",
    "    for a in autores:\n",
    "        acampos = a.split(\",\")\n",
    "        res.append((acampos[0],acampos[1]))\n",
    "    return res\n",
    "    \n",
    "def carregarBD(fnome):\n",
    "    bd = []\n",
    "    f = open(fnome)\n",
    "    for linha in f:\n",
    "        myReg = {}\n",
    "        novaLinha = linha.replace(\"\\n\",\"\")\n",
    "        campos = novaLinha.split(\"::\")\n",
    "        myReg['chaveCit'] = campos[0]\n",
    "        myReg['titulo'] = campos[1]\n",
    "        myReg['autores'] = extraiAutores(campos[2])\n",
    "        myReg['ano'] = campos[3]\n",
    "        myReg['local'] = campos[4]\n",
    "        bd.append(myReg)\n",
    "    return bd\n",
    "\n",
    "teste = carregarBD(\"bdArtigos.txt\")\n",
    "print(teste)"
   ]
  },
  {
   "cell_type": "code",
   "execution_count": null,
   "metadata": {},
   "outputs": [],
   "source": [
    "# Mais umas reutilizações do código já escrito\n",
    "# Inserir mais alguns registos e guardar\n",
    "# ..."
   ]
  },
  {
   "cell_type": "markdown",
   "metadata": {},
   "source": [
    "### Hipótese 2: em JSON\n",
    "\n",
    "(fazer uma visita guiada a [json.org](https://www.json.org/json-en.html))"
   ]
  },
  {
   "cell_type": "code",
   "execution_count": 71,
   "metadata": {},
   "outputs": [],
   "source": [
    "# Guardar a BD em JSON\n",
    "import json\n",
    "\n",
    "def guardarBD(bd, fnome):\n",
    "    f = open(fnome, 'w', encoding='utf-8') \n",
    "    json.dump(bd, f, ensure_ascii=False, indent=4)\n",
    "\n",
    "guardarBD(arts, \"bdArtigos.json\")"
   ]
  },
  {
   "cell_type": "code",
   "execution_count": 72,
   "metadata": {},
   "outputs": [
    {
     "name": "stdout",
     "output_type": "stream",
     "text": [
      "[{'chaveCit': 'RHA2008', 'titulo': 'Álgebra Documental', 'autores': [['jcr', 'José Carlos Ramalho'], ['prh', 'Pedro Rangel Henriques'], ['jj', 'José João Almeida']], 'ano': 2008, 'local': 'Twente - Holanda'}, {'chaveCit': 'RHA1998', 'titulo': 'Utilização do email pedagogicamente', 'autores': [['jcr', 'José Carlos Ramalho'], ['prh', 'Pedro Rangel Henriques'], ['jj', 'José João Almeida']], 'ano': 1999, 'local': 'Universidade do Minho'}]\n"
     ]
    }
   ],
   "source": [
    "# Carregar a BD dum ficheiro em JSON\n",
    "def carregarBD(fnome):\n",
    "    f = open(fnome)\n",
    "    bd = json.load(f)\n",
    "    return bd\n",
    "\n",
    "teste = []\n",
    "teste = carregarBD(\"bdArtigos.json\")\n",
    "print(teste)"
   ]
  },
  {
   "cell_type": "markdown",
   "metadata": {},
   "source": [
    "O campo autores não veio no formato pretendido. *Porquê?...*\n",
    "\n",
    "Altera a função de carregamento de modo a colocar tudo no formato esperado."
   ]
  },
  {
   "cell_type": "markdown",
   "metadata": {},
   "source": [
    "## Plot: desenho de gráficos e imagens\n",
    "\n",
    "Para a representação gráfica iremos usar o módulo plot.\n",
    "\n",
    "### Instalação\n",
    "\n",
    "`pip install matplotlib`"
   ]
  },
  {
   "cell_type": "markdown",
   "metadata": {},
   "source": [
    "### Plot1: uma espécie de \"Hello world!\""
   ]
  },
  {
   "cell_type": "code",
   "execution_count": 73,
   "metadata": {},
   "outputs": [
    {
     "data": {
      "image/png": "[encoded data removed]",
      "text/plain": [
       "<Figure size 432x288 with 1 Axes>"
      ]
     },
     "metadata": {
      "needs_background": "light"
     },
     "output_type": "display_data"
    }
   ],
   "source": [
    "import matplotlib.pyplot as plt\n",
    " \n",
    "# Valores para o eixo do X\n",
    "x = [1,2,3]\n",
    "# Valores para o eixo do Y\n",
    "y = [2,4,1]\n",
    " \n",
    "# Marcar os pontos\n",
    "plt.plot(x, y)\n",
    " \n",
    "plt.xlabel('Abcissas')\n",
    "plt.ylabel('Ordenadas')\n",
    "plt.title('O meu primeiro gráfico!')\n",
    " \n",
    "# Desenhar o gráfico\n",
    "plt.show()"
   ]
  },
  {
   "cell_type": "markdown",
   "metadata": {},
   "source": [
    "### Plot2: duas funções no mesmo gráfico"
   ]
  },
  {
   "cell_type": "code",
   "execution_count": 74,
   "metadata": {},
   "outputs": [
    {
     "data": {
      "image/png": "[encoded data removed]",
      "text/plain": [
       "<Figure size 432x288 with 1 Axes>"
      ]
     },
     "metadata": {
      "needs_background": "light"
     },
     "output_type": "display_data"
    }
   ],
   "source": [
    "import matplotlib.pyplot as plt\n",
    "# função 1\n",
    "x1 = [1,2,3]\n",
    "y1 = [2,4,1]\n",
    "plt.plot(x1, y1, label = \"linha 1\")\n",
    " \n",
    "# função 2\n",
    "x2 = [1,2,3]\n",
    "y2 = [4,1,3]\n",
    "plt.plot(x2, y2, label = \"linha 2\")\n",
    " \n",
    "plt.xlabel('Abcissas')\n",
    "plt.ylabel('Ordenadas')\n",
    "plt.title('Gráfico com duas funções')\n",
    "plt.legend()\n",
    " \n",
    "plt.show()"
   ]
  },
  {
   "cell_type": "markdown",
   "metadata": {},
   "source": [
    "### Plot3: configurações"
   ]
  },
  {
   "cell_type": "code",
   "execution_count": 75,
   "metadata": {},
   "outputs": [
    {
     "data": {
      "image/png": "[encoded data removed]",
      "text/plain": [
       "<Figure size 432x288 with 1 Axes>"
      ]
     },
     "metadata": {
      "needs_background": "light"
     },
     "output_type": "display_data"
    }
   ],
   "source": [
    "import matplotlib.pyplot as plt\n",
    " \n",
    "x = [1,2,3,4,5,6]\n",
    "y = [2,4,1,5,2,6]\n",
    " \n",
    "plt.plot(x, y, color='green', linestyle='dashed', linewidth = 3,\n",
    "         marker='o', markerfacecolor='blue', markersize=12)\n",
    " \n",
    "# Limites dos eixos\n",
    "plt.ylim(1,8)\n",
    "plt.xlim(1,8)\n",
    " \n",
    "plt.xlabel('Abcissas')\n",
    "plt.ylabel('Ordenadas')\n",
    "plt.title('Um gráfico com estilo!')\n",
    " \n",
    "plt.show()"
   ]
  },
  {
   "cell_type": "markdown",
   "metadata": {},
   "source": [
    "### Exercício: desenha a função `f = x^2 - 7`"
   ]
  },
  {
   "cell_type": "code",
   "execution_count": 81,
   "metadata": {},
   "outputs": [
    {
     "data": {
      "image/png": "[encoded data removed]",
      "text/plain": [
       "<Figure size 432x288 with 1 Axes>"
      ]
     },
     "metadata": {
      "needs_background": "light"
     },
     "output_type": "display_data"
    }
   ],
   "source": [
    "import matplotlib.pyplot as plt\n",
    " \n",
    "x = [x for x in range(-100,100)]\n",
    "y = [(a**2)-7 for a in x]\n",
    " \n",
    "plt.plot(x, y, color='green', linestyle='dashed', linewidth = 1,\n",
    "         marker='.', markerfacecolor='blue', markersize=4)\n",
    " \n",
    "plt.xlabel('Abcissas')\n",
    "plt.ylabel('Ordenadas')\n",
    "plt.title('Um gráfico com estilo!')\n",
    " \n",
    "plt.show()"
   ]
  },
  {
   "cell_type": "markdown",
   "metadata": {},
   "source": [
    "## Gráficos de barras"
   ]
  },
  {
   "cell_type": "code",
   "execution_count": 84,
   "metadata": {},
   "outputs": [
    {
     "data": {
      "image/png": "[encoded data removed]",
      "text/plain": [
       "<Figure size 432x288 with 1 Axes>"
      ]
     },
     "metadata": {
      "needs_background": "light"
     },
     "output_type": "display_data"
    }
   ],
   "source": [
    "import matplotlib.pyplot as plt\n",
    " \n",
    "# coordenada-x do lado esquerdo das barras\n",
    "left = [1, 2, 3, 4, 5]\n",
    " \n",
    "# altura das barras\n",
    "height = [6, 4, 8, 12, 5]\n",
    " \n",
    "# labels das barras\n",
    "tick_label = ['cebolas', 'maçãs', 'pêras', 'batatas', 'cenouras']\n",
    " \n",
    "# plotting a bar chart\n",
    "plt.bar(left, height, tick_label = tick_label,\n",
    "        width = 0.8, color = ['red', 'green', 'blue', 'magenta'])\n",
    " \n",
    "plt.xlabel('Frutas e legumes')\n",
    "plt.ylabel('Quantidade')\n",
    "plt.title('O meu stock de verdes')\n",
    " \n",
    "plt.show()"
   ]
  },
  {
   "cell_type": "markdown",
   "metadata": {},
   "source": [
    "#### Exercício: faz o gráfico de barras para a lista de compras"
   ]
  },
  {
   "cell_type": "code",
   "execution_count": 85,
   "metadata": {},
   "outputs": [
    {
     "name": "stdout",
     "output_type": "stream",
     "text": [
      "{'cenouras': 6, 'batatas': 20, 'cebolas': 12, 'tangerina': 30, 'pêras': 8, 'bananas': 6, 'romãs': 2}\n"
     ]
    }
   ],
   "source": [
    "legumes = {\"cenouras\": 6, \"batatas\":20, \"cebolas\": 12}\n",
    "frutas = {\"tangerina\": 30, \"pêras\":8, \"bananas\": 6, \"romãs\": 2}\n",
    "listaCompras = legumes.copy()\n",
    "listaCompras.update(frutas)\n",
    "print(listaCompras)"
   ]
  },
  {
   "cell_type": "code",
   "execution_count": 86,
   "metadata": {},
   "outputs": [
    {
     "data": {
      "image/png": "[encoded data removed]",
      "text/plain": [
       "<Figure size 432x288 with 1 Axes>"
      ]
     },
     "metadata": {
      "needs_background": "light"
     },
     "output_type": "display_data"
    }
   ],
   "source": [
    "import matplotlib.pyplot as plt\n",
    " \n",
    "# coordenada-x do lado esquerdo das barras\n",
    "left = [x for x in range(1, len(listaCompras)+1)]\n",
    " \n",
    "# altura das barras\n",
    "height = list(listaCompras.values())\n",
    " \n",
    "# labels das barras\n",
    "tick_label = list(listaCompras.keys())\n",
    " \n",
    "# plotting a bar chart\n",
    "plt.bar(left, height, tick_label = tick_label,\n",
    "        width = 0.8, color = ['red', 'green', 'blue', 'magenta'])\n",
    " \n",
    "plt.xlabel('Frutas e legumes')\n",
    "plt.ylabel('Quantidade')\n",
    "plt.title('O meu stock de verdes')\n",
    " \n",
    "plt.show()"
   ]
  },
  {
   "cell_type": "markdown",
   "metadata": {},
   "source": [
    "## Distribuições: uma introdução...\n",
    "\n",
    "Neste problema, vamos calcular indicadores estatísticos sobre o dataset dos Exames Médicos Desportivos:\n",
    "* Distribuição por sexo;\n",
    "* Distribuição por modalidade;\n",
    "* Distribuição por escalão etário: menos de 21, entre 21 e 35, e mais de 35."
   ]
  },
  {
   "cell_type": "markdown",
   "metadata": {},
   "source": []
  }
 ],
 "metadata": {
  "interpreter": {
   "hash": "aee8b7b246df8f9039afb4144a1f6fd8d2ca17a180786b69acc140d282b71a49"
  },
  "kernelspec": {
   "display_name": "Python 3.9.4 64-bit",
   "name": "python3"
  },
  "language_info": {
   "codemirror_mode": {
    "name": "ipython",
    "version": 3
   },
   "file_extension": ".py",
   "mimetype": "text/x-python",
   "name": "python",
   "nbconvert_exporter": "python",
   "pygments_lexer": "ipython3",
   "version": "3.8.10"
  },
  "orig_nbformat": 4
 },
 "nbformat": 4,
 "nbformat_minor": 2
}
